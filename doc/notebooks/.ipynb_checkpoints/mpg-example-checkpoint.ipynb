{
 "cells": [
  {
   "cell_type": "code",
   "execution_count": 1,
   "metadata": {
    "collapsed": false
   },
   "outputs": [
    {
     "name": "stderr",
     "output_type": "stream",
     "text": [
      "/Users/arokem/anaconda/lib/python3.5/site-packages/matplotlib/__init__.py:872: UserWarning: axes.color_cycle is deprecated and replaced with axes.prop_cycle; please use the latter.\n",
      "  warnings.warn(self.msg_depr % (key, alt_key))\n"
     ]
    }
   ],
   "source": [
    "import numpy as np\n",
    "import matplotlib.pyplot as plt\n",
    "import seaborn as sns\n",
    "sns.set()\n",
    "%matplotlib inline"
   ]
  },
  {
   "cell_type": "code",
   "execution_count": 2,
   "metadata": {
    "collapsed": false
   },
   "outputs": [
    {
     "name": "stderr",
     "output_type": "stream",
     "text": [
      "/Users/arokem/source/scikit-learn/sklearn/cross_validation.py:43: DeprecationWarning: This module has been deprecated in favor of the model_selection module into which all the refactored classes and functions are moved. Also note that the interface of the new CV iterators are different from that of this module. This module will be removed in 0.20.\n",
      "  \"This module will be removed in 0.20.\", DeprecationWarning)\n"
     ]
    }
   ],
   "source": [
    "import pandas as pd\n",
    "from sklearn.ensemble import RandomForestRegressor\n",
    "from sklearn.ensemble.forest import _generate_sample_indices\n",
    "from sklearn.tree import DecisionTreeRegressor\n",
    "import sklearn.cross_validation as xval"
   ]
  },
  {
   "cell_type": "code",
   "execution_count": 3,
   "metadata": {
    "collapsed": true
   },
   "outputs": [],
   "source": [
    "names = [\"mpg\",\"cyl\",\"disp\",\"hp\",\"weight\",\"accel\",\"year\",\"origin\",\"name\"]"
   ]
  },
  {
   "cell_type": "code",
   "execution_count": 4,
   "metadata": {
    "collapsed": false
   },
   "outputs": [],
   "source": [
    "df = pd.read_csv(\"https://archive.ics.uci.edu/ml/machine-learning-databases/auto-mpg/auto-mpg.data\", names=names, sep=\"\\s+\")"
   ]
  },
  {
   "cell_type": "code",
   "execution_count": 5,
   "metadata": {
    "collapsed": false
   },
   "outputs": [],
   "source": [
    "df[\"hp\"] = pd.to_numeric(df[\"hp\"], errors=\"coerce\")\n",
    "df = df.dropna()"
   ]
  },
  {
   "cell_type": "code",
   "execution_count": 6,
   "metadata": {
    "collapsed": false
   },
   "outputs": [
    {
     "data": {
      "text/plain": [
       "(392, 9)"
      ]
     },
     "execution_count": 6,
     "metadata": {},
     "output_type": "execute_result"
    }
   ],
   "source": [
    "df.shape"
   ]
  },
  {
   "cell_type": "code",
   "execution_count": 7,
   "metadata": {
    "collapsed": false
   },
   "outputs": [],
   "source": [
    "y = df[\"mpg\"].as_matrix()\n",
    "X = df.drop([\"mpg\", \"name\"], axis=1).as_matrix()"
   ]
  },
  {
   "cell_type": "code",
   "execution_count": 8,
   "metadata": {
    "collapsed": false
   },
   "outputs": [
    {
     "data": {
      "text/plain": [
       "(392, 7)"
      ]
     },
     "execution_count": 8,
     "metadata": {},
     "output_type": "execute_result"
    }
   ],
   "source": [
    "X.shape"
   ]
  },
  {
   "cell_type": "code",
   "execution_count": 9,
   "metadata": {
    "collapsed": false
   },
   "outputs": [
    {
     "data": {
      "text/plain": [
       "array([[   8. ,  307. ,  130. , ...,   12. ,   70. ,    1. ],\n",
       "       [   8. ,  350. ,  165. , ...,   11.5,   70. ,    1. ],\n",
       "       [   8. ,  318. ,  150. , ...,   11. ,   70. ,    1. ],\n",
       "       ..., \n",
       "       [   4. ,  135. ,   84. , ...,   11.6,   82. ,    1. ],\n",
       "       [   4. ,  120. ,   79. , ...,   18.6,   82. ,    1. ],\n",
       "       [   4. ,  119. ,   82. , ...,   19.4,   82. ,    1. ]])"
      ]
     },
     "execution_count": 9,
     "metadata": {},
     "output_type": "execute_result"
    }
   ],
   "source": [
    "X"
   ]
  },
  {
   "cell_type": "code",
   "execution_count": 10,
   "metadata": {
    "collapsed": false
   },
   "outputs": [
    {
     "data": {
      "text/plain": [
       "(array([  27.,   95.,  120.,   44.,   19.,   47.,   13.,   14.,    5.,    8.]),\n",
       " array([  46. ,   64.4,   82.8,  101.2,  119.6,  138. ,  156.4,  174.8,\n",
       "         193.2,  211.6,  230. ]),\n",
       " <a list of 10 Patch objects>)"
      ]
     },
     "execution_count": 10,
     "metadata": {},
     "output_type": "execute_result"
    },
    {
     "data": {
      "image/png": "[encoded data removed]",
      "text/plain": [
       "<matplotlib.figure.Figure at 0x110690ac8>"
      ]
     },
     "metadata": {},
     "output_type": "display_data"
    }
   ],
   "source": [
    "plt.hist(X[:, 2])"
   ]
  },
  {
   "cell_type": "code",
   "execution_count": 11,
   "metadata": {
    "collapsed": false
   },
   "outputs": [],
   "source": [
    "X_train, X_test, y_train, y_test = xval.train_test_split(X, y, test_size=0.25, random_state=42)"
   ]
  },
  {
   "cell_type": "code",
   "execution_count": 12,
   "metadata": {
    "collapsed": false
   },
   "outputs": [],
   "source": [
    "def calc_inbag(n_samples, forest):\n",
    "    \"\"\" \n",
    "    \n",
    "    \"\"\"\n",
    "    n_trees = forest.n_estimators\n",
    "    inbag = np.zeros((n_samples, n_trees))\n",
    "    sample_idx = []\n",
    "    for t_idx in range(n_trees):\n",
    "        sample_idx.append(_generate_sample_indices(forest.estimators_[t_idx].random_state, \n",
    "                                                   n_samples))\n",
    "        inbag[:, t_idx] = np.bincount(sample_idx[-1], minlength=n_samples)\n",
    "    return inbag"
   ]
  },
  {
   "cell_type": "code",
   "execution_count": 13,
   "metadata": {
    "collapsed": true
   },
   "outputs": [],
   "source": [
    "n_trees = 2000"
   ]
  },
  {
   "cell_type": "code",
   "execution_count": 14,
   "metadata": {
    "collapsed": false
   },
   "outputs": [],
   "source": [
    "forest = RandomForestRegressor(n_estimators=n_trees)"
   ]
  },
  {
   "cell_type": "code",
   "execution_count": 15,
   "metadata": {
    "collapsed": false
   },
   "outputs": [
    {
     "data": {
      "text/plain": [
       "RandomForestRegressor(bootstrap=True, criterion='mse', max_depth=None,\n",
       "           max_features='auto', max_leaf_nodes=None, min_samples_leaf=1,\n",
       "           min_samples_split=2, min_weight_fraction_leaf=0.0,\n",
       "           n_estimators=2000, n_jobs=1, oob_score=False, random_state=None,\n",
       "           verbose=0, warm_start=False)"
      ]
     },
     "execution_count": 15,
     "metadata": {},
     "output_type": "execute_result"
    }
   ],
   "source": [
    "forest.fit(X_train, y_train)"
   ]
  },
  {
   "cell_type": "code",
   "execution_count": 16,
   "metadata": {
    "collapsed": false
   },
   "outputs": [],
   "source": [
    "inbag = calc_inbag(X_train.shape[0], forest)"
   ]
  },
  {
   "cell_type": "code",
   "execution_count": 17,
   "metadata": {
    "collapsed": false
   },
   "outputs": [],
   "source": [
    "def random_forest_error(forest, inbag, X_train, X_test):\n",
    "    \"\"\" \n",
    "    forest : RandomForest{Regressor, Classifier}\n",
    "    \n",
    "    inbag : ndarray\n",
    "        The inbag matrix (see `calc_inbag`) for the data with which this was fit\n",
    "    \n",
    "    X : ndarray\n",
    "        with shape (n_sample, n_features).\n",
    "    \"\"\"\n",
    "    pred = np.array([tree.predict(X_test) for tree in forest])\n",
    "    pred_mean = np.mean(pred, 0)\n",
    "    pred_centered = pred - pred_mean\n",
    "    n_trees = forest.n_estimators\n",
    "    n_train_samples = inbag.shape[0]\n",
    "\n",
    "    cov_hat = np.zeros((X_train.shape[0], X_test.shape[0]))\n",
    "\n",
    "    for t_idx in range(n_trees):\n",
    "        cov_hat += np.dot((inbag[:, t_idx] - 1).reshape(-1, 1), pred_centered[t_idx].reshape(1, -1)) / n_trees\n",
    "\n",
    "    V_IJ = np.sum(cov_hat ** 2, 0)\n",
    "    V_IJ_unbiased = V_IJ - (X_train.shape[0] / (n_trees ** 2)) * np.sum(pred_centered ** 2, 0)\n",
    "    return pred_mean, V_IJ_unbiased"
   ]
  },
  {
   "cell_type": "code",
   "execution_count": 18,
   "metadata": {
    "collapsed": false
   },
   "outputs": [],
   "source": [
    "y_hat, V_IJ_unbiased = random_forest_error(forest, inbag, X_train, X_test)"
   ]
  },
  {
   "cell_type": "code",
   "execution_count": 19,
   "metadata": {
    "collapsed": false
   },
   "outputs": [
    {
     "data": {
      "text/plain": [
       "[<matplotlib.lines.Line2D at 0x1108f0eb8>]"
      ]
     },
     "execution_count": 19,
     "metadata": {},
     "output_type": "execute_result"
    },
    {
     "data": {
      "image/png": "[encoded data removed]",
      "text/plain": [
       "<matplotlib.figure.Figure at 0x1108f0ef0>"
      ]
     },
     "metadata": {},
     "output_type": "display_data"
    }
   ],
   "source": [
    "plt.errorbar(y_test, y_hat, yerr=V_IJ_unbiased, fmt='o')\n",
    "plt.plot([10, 45], [10, 45], '--')"
   ]
  },
  {
   "cell_type": "code",
   "execution_count": 20,
   "metadata": {
    "collapsed": false
   },
   "outputs": [
    {
     "data": {
      "text/plain": [
       "(array([ 86.,   7.,   3.,   1.,   0.,   0.,   0.,   0.,   0.,   1.]),\n",
       " array([  1.53617294e-02,   1.93329504e+00,   3.85122836e+00,\n",
       "          5.76916167e+00,   7.68709498e+00,   9.60502829e+00,\n",
       "          1.15229616e+01,   1.34408949e+01,   1.53588282e+01,\n",
       "          1.72767615e+01,   1.91946949e+01]),\n",
       " <a list of 10 Patch objects>)"
      ]
     },
     "execution_count": 20,
     "metadata": {},
     "output_type": "execute_result"
    },
    {
     "data": {
      "image/png": "[encoded data removed]",
      "text/plain": [
       "<matplotlib.figure.Figure at 0x1108f0a20>"
      ]
     },
     "metadata": {},
     "output_type": "display_data"
    }
   ],
   "source": [
    "plt.hist(V_IJ_unbiased)"
   ]
  },
  {
   "cell_type": "code",
   "execution_count": 21,
   "metadata": {
    "collapsed": true
   },
   "outputs": [],
   "source": [
    "b = np.arange(10).reshape(10, 1)\n",
    "c = np.arange(20).reshape((1, 20))"
   ]
  },
  {
   "cell_type": "code",
   "execution_count": null,
   "metadata": {
    "collapsed": true
   },
   "outputs": [],
   "source": []
  }
 ],
 "metadata": {
  "kernelspec": {
   "display_name": "Python 3",
   "language": "python",
   "name": "python3"
  },
  "language_info": {
   "codemirror_mode": {
    "name": "ipython",
    "version": 3
   },
   "file_extension": ".py",
   "mimetype": "text/x-python",
   "name": "python",
   "nbconvert_exporter": "python",
   "pygments_lexer": "ipython3",
   "version": "3.5.1"
  }
 },
 "nbformat": 4,
 "nbformat_minor": 0
}
