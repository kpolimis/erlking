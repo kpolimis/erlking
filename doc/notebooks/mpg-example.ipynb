{
 "cells": [
  {
   "cell_type": "code",
   "execution_count": 1,
   "metadata": {
    "collapsed": false
   },
   "outputs": [
    {
     "name": "stderr",
     "output_type": "stream",
     "text": [
      "/Users/arokem/anaconda/lib/python3.5/site-packages/matplotlib/__init__.py:872: UserWarning: axes.color_cycle is deprecated and replaced with axes.prop_cycle; please use the latter.\n",
      "  warnings.warn(self.msg_depr % (key, alt_key))\n"
     ]
    }
   ],
   "source": [
    "import numpy as np\n",
    "import matplotlib.pyplot as plt\n",
    "import seaborn as sns\n",
    "sns.set()\n",
    "%matplotlib inline"
   ]
  },
  {
   "cell_type": "code",
   "execution_count": 2,
   "metadata": {
    "collapsed": true
   },
   "outputs": [],
   "source": [
    "import pandas as pd\n",
    "from sklearn.ensemble import RandomForestRegressor\n",
    "import sklearn.cross_validation as xval"
   ]
  },
  {
   "cell_type": "code",
   "execution_count": 3,
   "metadata": {
    "collapsed": true
   },
   "outputs": [],
   "source": [
    "names = [\"mpg\",\"cyl\",\"disp\",\"hp\",\"weight\",\"accel\",\"year\",\"origin\",\"name\"]"
   ]
  },
  {
   "cell_type": "code",
   "execution_count": 4,
   "metadata": {
    "collapsed": false
   },
   "outputs": [],
   "source": [
    "df = pd.read_csv(\"https://archive.ics.uci.edu/ml/machine-learning-databases/auto-mpg/auto-mpg.data\", names=names, sep=\"\\s+\")"
   ]
  },
  {
   "cell_type": "code",
   "execution_count": 5,
   "metadata": {
    "collapsed": false
   },
   "outputs": [],
   "source": [
    "df[\"hp\"] = pd.to_numeric(df[\"hp\"], errors=\"coerce\")\n",
    "df = df.dropna()"
   ]
  },
  {
   "cell_type": "code",
   "execution_count": 6,
   "metadata": {
    "collapsed": false
   },
   "outputs": [
    {
     "data": {
      "text/plain": [
       "(392, 9)"
      ]
     },
     "execution_count": 6,
     "metadata": {},
     "output_type": "execute_result"
    }
   ],
   "source": [
    "df.shape"
   ]
  },
  {
   "cell_type": "code",
   "execution_count": 7,
   "metadata": {
    "collapsed": false
   },
   "outputs": [],
   "source": [
    "y = df[\"mpg\"].as_matrix()\n",
    "X = df.drop([\"mpg\", \"name\"], axis=1).as_matrix()\n"
   ]
  },
  {
   "cell_type": "code",
   "execution_count": 8,
   "metadata": {
    "collapsed": false
   },
   "outputs": [
    {
     "data": {
      "text/plain": [
       "(392, 7)"
      ]
     },
     "execution_count": 8,
     "metadata": {},
     "output_type": "execute_result"
    }
   ],
   "source": [
    "X.shape"
   ]
  },
  {
   "cell_type": "code",
   "execution_count": 9,
   "metadata": {
    "collapsed": false
   },
   "outputs": [
    {
     "data": {
      "text/plain": [
       "array([[   8. ,  307. ,  130. , ...,   12. ,   70. ,    1. ],\n",
       "       [   8. ,  350. ,  165. , ...,   11.5,   70. ,    1. ],\n",
       "       [   8. ,  318. ,  150. , ...,   11. ,   70. ,    1. ],\n",
       "       ..., \n",
       "       [   4. ,  135. ,   84. , ...,   11.6,   82. ,    1. ],\n",
       "       [   4. ,  120. ,   79. , ...,   18.6,   82. ,    1. ],\n",
       "       [   4. ,  119. ,   82. , ...,   19.4,   82. ,    1. ]])"
      ]
     },
     "execution_count": 9,
     "metadata": {},
     "output_type": "execute_result"
    }
   ],
   "source": [
    "X"
   ]
  },
  {
   "cell_type": "code",
   "execution_count": 10,
   "metadata": {
    "collapsed": false
   },
   "outputs": [
    {
     "data": {
      "text/plain": [
       "(array([  27.,   95.,  120.,   44.,   19.,   47.,   13.,   14.,    5.,    8.]),\n",
       " array([  46. ,   64.4,   82.8,  101.2,  119.6,  138. ,  156.4,  174.8,\n",
       "         193.2,  211.6,  230. ]),\n",
       " <a list of 10 Patch objects>)"
      ]
     },
     "execution_count": 10,
     "metadata": {},
     "output_type": "execute_result"
    },
    {
     "data": {
      "image/png": "[encoded data removed]",
      "text/plain": [
       "<matplotlib.figure.Figure at 0x10fdf8fd0>"
      ]
     },
     "metadata": {},
     "output_type": "display_data"
    }
   ],
   "source": [
    "plt.hist(X[:, 2])"
   ]
  },
  {
   "cell_type": "code",
   "execution_count": 11,
   "metadata": {
    "collapsed": false
   },
   "outputs": [],
   "source": [
    "X_train, X_test, y_train, y_test = xval.train_test_split(X, y, test_size=0.33, random_state=42)"
   ]
  },
  {
   "cell_type": "code",
   "execution_count": 12,
   "metadata": {
    "collapsed": true
   },
   "outputs": [],
   "source": [
    "clf = RandomForestRegressor(oob_score=True)"
   ]
  },
  {
   "cell_type": "code",
   "execution_count": 13,
   "metadata": {
    "collapsed": false
   },
   "outputs": [
    {
     "name": "stderr",
     "output_type": "stream",
     "text": [
      "/Users/arokem/anaconda/lib/python3.5/site-packages/sklearn/ensemble/forest.py:687: UserWarning: Some inputs do not have OOB scores. This probably means too few trees were used to compute any reliable oob estimates.\n",
      "  warn(\"Some inputs do not have OOB scores. \"\n"
     ]
    },
    {
     "data": {
      "text/plain": [
       "RandomForestRegressor(bootstrap=True, criterion='mse', max_depth=None,\n",
       "           max_features='auto', max_leaf_nodes=None, min_samples_leaf=1,\n",
       "           min_samples_split=2, min_weight_fraction_leaf=0.0,\n",
       "           n_estimators=10, n_jobs=1, oob_score=True, random_state=None,\n",
       "           verbose=0, warm_start=False)"
      ]
     },
     "execution_count": 13,
     "metadata": {},
     "output_type": "execute_result"
    }
   ],
   "source": [
    "clf.fit(X_train, y_train)"
   ]
  },
  {
   "cell_type": "code",
   "execution_count": 14,
   "metadata": {
    "collapsed": false
   },
   "outputs": [],
   "source": [
    "y_hat = clf.predict(X_test)"
   ]
  },
  {
   "cell_type": "code",
   "execution_count": 15,
   "metadata": {
    "collapsed": false
   },
   "outputs": [],
   "source": [
    "n_trees = clf.n_estimators\n",
    "est0 = clf.estimators_[0]"
   ]
  },
  {
   "cell_type": "code",
   "execution_count": 16,
   "metadata": {
    "collapsed": false
   },
   "outputs": [
    {
     "data": {
      "text/plain": [
       "array([ 262.,  143.,   52.,   28.,   25.,    3.,    2.,    1.,   22.,\n",
       "          4.,    2.,    2.,    1.,    1.,   18.,   13.,   11.,    7.,\n",
       "          2.,    1.,    1.,    5.,    3.,    1.,    2.,    2.,    4.,\n",
       "          2.,    2.,    2.,    5.,    4.,    2.,    2.,    1.,    3.,\n",
       "          1.,    2.,   24.,   17.,   10.,    6.,    1.,    5.,    1.,\n",
       "          4.,    4.,    1.,    3.,    1.,    2.,    7.,    3.,    2.,\n",
       "          1.,    4.,    3.,    2.,    1.,    1.,    7.,    5.,    1.,\n",
       "          4.,    1.,    3.,    2.,   91.,   47.,   16.,   14.,   12.,\n",
       "          1.,   11.,    5.,    1.,    4.,    6.,    2.,    4.,    2.,\n",
       "          2.,    2.,    2.,    1.,    1.,   31.,   27.,   11.,    5.,\n",
       "          2.,    3.,    6.,    4.,    1.,    3.,    2.,    1.,    1.,\n",
       "         16.,   11.,    9.,    7.,    1.,    6.,    3.,    3.,    2.,\n",
       "          2.,    5.,    2.,    1.,    1.,    3.,    1.,    2.,    4.,\n",
       "          3.,    2.,    1.,    1.,   44.,    6.,    4.,    1.,    3.,\n",
       "          1.,    2.,    2.,   38.,   27.,    7.,    1.,    6.,    5.,\n",
       "          4.,    1.,    1.,   20.,    6.,    1.,    5.,    4.,    3.,\n",
       "          2.,    1.,    1.,    1.,   14.,    3.,    1.,    2.,   11.,\n",
       "          6.,    5.,    3.,    1.,    2.,    2.,    1.,    5.,    2.,\n",
       "          1.,    1.,    3.,    1.,    2.,   11.,    1.,   10.,    8.,\n",
       "          7.,    4.,    1.,    3.,    3.,    1.,    2.,  119.,   49.,\n",
       "         47.,   19.,    2.,   17.,   12.,    4.,    1.,    3.,    1.,\n",
       "          2.,    8.,    2.,    1.,    1.,    6.,    1.,    5.,    3.,\n",
       "          2.,    5.,    4.,    3.,    1.,    1.,   28.,   26.,    3.,\n",
       "          2.,    1.,    1.,    1.,   23.,   18.,   17.,   11.,    1.,\n",
       "         10.,    9.,    1.,    6.,    1.,    5.,    1.,    5.,    4.,\n",
       "          1.,    2.,    2.,    1.,    1.,   70.,   52.,   36.,   13.,\n",
       "          2.,   11.,    9.,    5.,    4.,    1.,    4.,    2.,   23.,\n",
       "         21.,    5.,    4.,    1.,    3.,    1.,   16.,    2.,   14.,\n",
       "          4.,   10.,    9.,    2.,    1.,    1.,    7.,    1.,    2.,\n",
       "          1.,    1.,   16.,    5.,    3.,    2.,    1.,    1.,   11.,\n",
       "          9.,    8.,    4.,    3.,    1.,    4.,    1.,    2.,   18.,\n",
       "         10.,    6.,    3.,    3.,    4.,    2.,    2.,    1.,    1.,\n",
       "          8.,    6.,    1.,    5.,    2.,    3.,    2.])"
      ]
     },
     "execution_count": 16,
     "metadata": {},
     "output_type": "execute_result"
    }
   ],
   "source": [
    "est0.tree_.weighted_n_node_samples"
   ]
  },
  {
   "cell_type": "code",
   "execution_count": 17,
   "metadata": {
    "collapsed": false
   },
   "outputs": [
    {
     "data": {
      "text/plain": [
       "[<matplotlib.lines.Line2D at 0x10fe95da0>]"
      ]
     },
     "execution_count": 17,
     "metadata": {},
     "output_type": "execute_result"
    },
    {
     "data": {
      "image/png": "[encoded data removed]",
      "text/plain": [
       "<matplotlib.figure.Figure at 0x10fe952b0>"
      ]
     },
     "metadata": {},
     "output_type": "display_data"
    }
   ],
   "source": [
    "plt.plot(y_test, y_hat, 'o')\n",
    "plt.plot([10, 45], [10, 45], '--')"
   ]
  },
  {
   "cell_type": "code",
   "execution_count": null,
   "metadata": {
    "collapsed": true
   },
   "outputs": [],
   "source": []
  },
  {
   "cell_type": "code",
   "execution_count": null,
   "metadata": {
    "collapsed": true
   },
   "outputs": [],
   "source": []
  }
 ],
 "metadata": {
  "kernelspec": {
   "display_name": "Python 3",
   "language": "python",
   "name": "python3"
  },
  "language_info": {
   "codemirror_mode": {
    "name": "ipython",
    "version": 3
   },
   "file_extension": ".py",
   "mimetype": "text/x-python",
   "name": "python",
   "nbconvert_exporter": "python",
   "pygments_lexer": "ipython3",
   "version": "3.5.1"
  }
 },
 "nbformat": 4,
 "nbformat_minor": 0
}
